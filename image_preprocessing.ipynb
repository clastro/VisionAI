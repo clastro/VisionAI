{
 "cells": [
  {
   "cell_type": "code",
   "execution_count": 1,
   "metadata": {},
   "outputs": [],
   "source": [
    "import os\n",
    "import cv2\n",
    "import numpy as np\n",
    "from sklearn.preprocessing import LabelEncoder\n",
    "from sklearn.preprocessing import OneHotEncoder\n",
    "from numpy import array\n",
    "from PIL import Image"
   ]
  },
  {
   "cell_type": "code",
   "execution_count": 41,
   "metadata": {},
   "outputs": [],
   "source": [
    "from tensorflow.keras.layers import Conv2D, Activation, MaxPool2D, Flatten, Dense\n",
    "from tensorflow.keras.models import Sequential"
   ]
  },
  {
   "cell_type": "code",
   "execution_count": 16,
   "metadata": {},
   "outputs": [],
   "source": [
    "TRAIN_DIR = './train/'\n",
    "train_folder_list = array(os.listdir(TRAIN_DIR)) #trainingSet 내부에 존재하는 폴더명을 array 형태로 저장."
   ]
  },
  {
   "cell_type": "code",
   "execution_count": 17,
   "metadata": {},
   "outputs": [
    {
     "data": {
      "text/plain": [
       "array(['beauty', 'car'], dtype='<U6')"
      ]
     },
     "execution_count": 17,
     "metadata": {},
     "output_type": "execute_result"
    }
   ],
   "source": [
    "train_folder_list"
   ]
  },
  {
   "cell_type": "code",
   "execution_count": 18,
   "metadata": {},
   "outputs": [],
   "source": [
    "train_input = []\n",
    "train_label = []\n",
    "\n",
    "label_encoder = LabelEncoder()\n",
    "integer_encoded = label_encoder.fit_transform(train_folder_list)\n",
    "#train_folder_list를 숫자형 array로 변환 : integer_encoded = [0 1 2 3 4 5 6 7 8 9]"
   ]
  },
  {
   "cell_type": "code",
   "execution_count": 19,
   "metadata": {},
   "outputs": [
    {
     "data": {
      "text/plain": [
       "array([0, 1], dtype=int64)"
      ]
     },
     "execution_count": 19,
     "metadata": {},
     "output_type": "execute_result"
    }
   ],
   "source": [
    "integer_encoded"
   ]
  },
  {
   "cell_type": "markdown",
   "metadata": {},
   "source": [
    "### keras preprocessing 사용하는 법"
   ]
  },
  {
   "cell_type": "code",
   "execution_count": 81,
   "metadata": {},
   "outputs": [],
   "source": [
    "import numpy as np\n",
    "from keras.preprocessing import image\n",
    "test_image = image.load_img('./train/car/0_channels4.jpg', target_size = (480, 360))\n",
    "test_image = image.img_to_array(test_image)\n",
    "test_image = np.expand_dims(test_image, axis = 0)"
   ]
  },
  {
   "cell_type": "code",
   "execution_count": 82,
   "metadata": {},
   "outputs": [
    {
     "data": {
      "text/plain": [
       "(1, 480, 360, 3)"
      ]
     },
     "execution_count": 82,
     "metadata": {},
     "output_type": "execute_result"
    }
   ],
   "source": [
    "test_image.shape"
   ]
  },
  {
   "cell_type": "code",
   "execution_count": 83,
   "metadata": {},
   "outputs": [],
   "source": [
    "t = np.vstack((test_image,test_image)) # numpy vstack으로 쌓아주기"
   ]
  },
  {
   "cell_type": "code",
   "execution_count": 97,
   "metadata": {},
   "outputs": [
    {
     "data": {
      "text/plain": [
       "(2, 480, 360, 3)"
      ]
     },
     "execution_count": 97,
     "metadata": {},
     "output_type": "execute_result"
    }
   ],
   "source": [
    "t.shape"
   ]
  },
  {
   "cell_type": "markdown",
   "metadata": {},
   "source": [
    "### dimension 수동 설정"
   ]
  },
  {
   "cell_type": "code",
   "execution_count": 100,
   "metadata": {},
   "outputs": [],
   "source": [
    "img_height = 480\n",
    "img_width = 360\n",
    "img_channels = 3\n",
    "batch_size = 128 # 한 번에 넣을 데이터양 or label 수\n",
    "img_shape = (batch_size,img_height, img_width, img_channels)"
   ]
  },
  {
   "cell_type": "code",
   "execution_count": 101,
   "metadata": {},
   "outputs": [],
   "source": [
    "images = np.zeros((batch_size, img_height, img_width, img_channels))"
   ]
  },
  {
   "cell_type": "code",
   "execution_count": 103,
   "metadata": {},
   "outputs": [],
   "source": [
    "images[2, :, :, :] = test_image"
   ]
  },
  {
   "cell_type": "code",
   "execution_count": 92,
   "metadata": {},
   "outputs": [],
   "source": [
    "# Set up the model\n",
    "model = Sequential()\n",
    "model.add(Conv2D(32,(3,3),input_shape=img_shape))\n",
    "model.add(Activation('relu'))\n",
    "model.add(MaxPool2D(2,2))\n",
    "model.add(Flatten())\n",
    "model.add(Dense(1))"
   ]
  },
  {
   "cell_type": "code",
   "execution_count": 93,
   "metadata": {},
   "outputs": [
    {
     "name": "stdout",
     "output_type": "stream",
     "text": [
      "Model: \"sequential_7\"\n",
      "_________________________________________________________________\n",
      " Layer (type)                Output Shape              Param #   \n",
      "=================================================================\n",
      " conv2d_7 (Conv2D)           (None, 478, 358, 32)      896       \n",
      "                                                                 \n",
      " activation_4 (Activation)   (None, 478, 358, 32)      0         \n",
      "                                                                 \n",
      " max_pooling2d_4 (MaxPooling  (None, 239, 179, 32)     0         \n",
      " 2D)                                                             \n",
      "                                                                 \n",
      " flatten_2 (Flatten)         (None, 1368992)           0         \n",
      "                                                                 \n",
      " dense_3 (Dense)             (None, 1)                 1368993   \n",
      "                                                                 \n",
      "=================================================================\n",
      "Total params: 1,369,889\n",
      "Trainable params: 1,369,889\n",
      "Non-trainable params: 0\n",
      "_________________________________________________________________\n"
     ]
    }
   ],
   "source": [
    "model.summary()"
   ]
  },
  {
   "cell_type": "code",
   "execution_count": 94,
   "metadata": {},
   "outputs": [],
   "source": [
    "model.compile(loss=\"categorical_crossentropy\", optimizer='adam',metrics=[\"accuracy\"])"
   ]
  },
  {
   "cell_type": "code",
   "execution_count": 95,
   "metadata": {
    "scrolled": true
   },
   "outputs": [
    {
     "data": {
      "text/plain": [
       "array([[[[ 6., 21., 40.],\n",
       "         [ 6., 21., 40.],\n",
       "         [ 6., 21., 40.],\n",
       "         ...,\n",
       "         [ 6., 21., 40.],\n",
       "         [ 6., 21., 40.],\n",
       "         [ 6., 21., 40.]],\n",
       "\n",
       "        [[ 6., 21., 40.],\n",
       "         [ 6., 21., 40.],\n",
       "         [ 6., 21., 40.],\n",
       "         ...,\n",
       "         [ 6., 21., 40.],\n",
       "         [ 6., 21., 40.],\n",
       "         [ 6., 21., 40.]],\n",
       "\n",
       "        [[ 6., 21., 40.],\n",
       "         [ 6., 21., 40.],\n",
       "         [ 6., 21., 40.],\n",
       "         ...,\n",
       "         [ 6., 21., 40.],\n",
       "         [ 6., 21., 40.],\n",
       "         [ 6., 21., 40.]],\n",
       "\n",
       "        ...,\n",
       "\n",
       "        [[ 6., 21., 40.],\n",
       "         [ 6., 21., 40.],\n",
       "         [ 6., 21., 40.],\n",
       "         ...,\n",
       "         [ 6., 21., 40.],\n",
       "         [ 6., 21., 40.],\n",
       "         [ 6., 21., 40.]],\n",
       "\n",
       "        [[ 6., 21., 40.],\n",
       "         [ 6., 21., 40.],\n",
       "         [ 6., 21., 40.],\n",
       "         ...,\n",
       "         [ 6., 21., 40.],\n",
       "         [ 6., 21., 40.],\n",
       "         [ 6., 21., 40.]],\n",
       "\n",
       "        [[ 6., 21., 40.],\n",
       "         [ 6., 21., 40.],\n",
       "         [ 6., 21., 40.],\n",
       "         ...,\n",
       "         [ 6., 21., 40.],\n",
       "         [ 6., 21., 40.],\n",
       "         [ 6., 21., 40.]]],\n",
       "\n",
       "\n",
       "       [[[ 6., 21., 40.],\n",
       "         [ 6., 21., 40.],\n",
       "         [ 6., 21., 40.],\n",
       "         ...,\n",
       "         [ 6., 21., 40.],\n",
       "         [ 6., 21., 40.],\n",
       "         [ 6., 21., 40.]],\n",
       "\n",
       "        [[ 6., 21., 40.],\n",
       "         [ 6., 21., 40.],\n",
       "         [ 6., 21., 40.],\n",
       "         ...,\n",
       "         [ 6., 21., 40.],\n",
       "         [ 6., 21., 40.],\n",
       "         [ 6., 21., 40.]],\n",
       "\n",
       "        [[ 6., 21., 40.],\n",
       "         [ 6., 21., 40.],\n",
       "         [ 6., 21., 40.],\n",
       "         ...,\n",
       "         [ 6., 21., 40.],\n",
       "         [ 6., 21., 40.],\n",
       "         [ 6., 21., 40.]],\n",
       "\n",
       "        ...,\n",
       "\n",
       "        [[ 6., 21., 40.],\n",
       "         [ 6., 21., 40.],\n",
       "         [ 6., 21., 40.],\n",
       "         ...,\n",
       "         [ 6., 21., 40.],\n",
       "         [ 6., 21., 40.],\n",
       "         [ 6., 21., 40.]],\n",
       "\n",
       "        [[ 6., 21., 40.],\n",
       "         [ 6., 21., 40.],\n",
       "         [ 6., 21., 40.],\n",
       "         ...,\n",
       "         [ 6., 21., 40.],\n",
       "         [ 6., 21., 40.],\n",
       "         [ 6., 21., 40.]],\n",
       "\n",
       "        [[ 6., 21., 40.],\n",
       "         [ 6., 21., 40.],\n",
       "         [ 6., 21., 40.],\n",
       "         ...,\n",
       "         [ 6., 21., 40.],\n",
       "         [ 6., 21., 40.],\n",
       "         [ 6., 21., 40.]]]], dtype=float32)"
      ]
     },
     "execution_count": 95,
     "metadata": {},
     "output_type": "execute_result"
    }
   ],
   "source": [
    "t"
   ]
  },
  {
   "cell_type": "code",
   "execution_count": 96,
   "metadata": {},
   "outputs": [
    {
     "name": "stdout",
     "output_type": "stream",
     "text": [
      "1/1 [==============================] - 1s 709ms/step - loss: 5.9605e-08 - accuracy: 0.5000\n"
     ]
    }
   ],
   "source": [
    "H = model.fit(t,integer_encoded,epochs=1)"
   ]
  }
 ],
 "metadata": {
  "kernelspec": {
   "display_name": "Python 3",
   "language": "python",
   "name": "python3"
  },
  "language_info": {
   "codemirror_mode": {
    "name": "ipython",
    "version": 3
   },
   "file_extension": ".py",
   "mimetype": "text/x-python",
   "name": "python",
   "nbconvert_exporter": "python",
   "pygments_lexer": "ipython3",
   "version": "3.8.5"
  }
 },
 "nbformat": 4,
 "nbformat_minor": 4
}
